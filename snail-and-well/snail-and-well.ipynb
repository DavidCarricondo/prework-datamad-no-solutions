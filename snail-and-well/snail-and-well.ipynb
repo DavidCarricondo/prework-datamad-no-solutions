{
 "cells": [
  {
   "cell_type": "markdown",
   "metadata": {},
   "source": [
    "# Snail and well\n",
    "\n",
    "A snail falls at the bottom of a 125 cm well. Each day the snail rises 30 cm. But at night, while sleeping, slides 20 cm because the walls are wet. How many days does it take to escape from the well?\n",
    "\n",
    "TIP: http://puzzles.nigelcoldwell.co.uk/sixtytwo.htm"
   ]
  },
  {
   "cell_type": "markdown",
   "metadata": {},
   "source": [
    "## Solución"
   ]
  },
  {
   "cell_type": "code",
   "execution_count": 7,
   "metadata": {},
   "outputs": [
    {
     "name": "stdout",
     "output_type": "stream",
     "text": [
      "Days = 11\n"
     ]
    }
   ],
   "source": [
    "# Assign problem data to variables with representative names\n",
    "# well height, daily advance, night retreat, accumulated distance\n",
    "\n",
    "well_height = 125\n",
    "daily_distance = 30\n",
    "nightly_distance = 20\n",
    "snail_position = 0\n",
    "\n",
    "# Assign 0 to the variable that represents the solution\n",
    "\n",
    "days = 0\n",
    "\n",
    "# Write the code that solves the problem\n",
    "\n",
    "while snail_position <= well_height:\n",
    "    #During the day\n",
    "    days += 1\n",
    "    snail_position = snail_position + daily_distance \n",
    "    #At night\n",
    "    if snail_position <= well_height:\n",
    "        snail_position = snail_position - nightly_distance\n",
    "\n",
    "# Print the result with print('Days =', days)\n",
    "\n",
    "print('Days =' , str(days))"
   ]
  },
  {
   "cell_type": "markdown",
   "metadata": {},
   "source": [
    "**Expected output**: \n",
    "```\n",
    "Days = 11\n",
    "```"
   ]
  },
  {
   "cell_type": "markdown",
   "metadata": {},
   "source": [
    "## Goals\n",
    "\n",
    "1. Treatment of variables\n",
    "2. Use of loop **while**\n",
    "3. Use of conditional **if-else**\n",
    "4. Print in console"
   ]
  },
  {
   "cell_type": "markdown",
   "metadata": {},
   "source": [
    "## Bonus\n",
    "The distance traveled by the snail is now defined by a list.\n",
    "```\n",
    "advance_cm = [30, 21, 33, 77, 44, 45, 23, 45, 12, 34, 55]\n",
    "```\n",
    "How long does it take to raise the well?\n",
    "\n",
    "What is its maximum displacement in one day? And its minimum?\n",
    "\n",
    "What is its average speed during the day?\n",
    "\n",
    "What is the standard deviation of its displacement during the day?"
   ]
  },
  {
   "cell_type": "code",
   "execution_count": 8,
   "metadata": {},
   "outputs": [
    {
     "name": "stdout",
     "output_type": "stream",
     "text": [
      "Days = 6\n"
     ]
    }
   ],
   "source": [
    "# Assign problem data to variables with representative names\n",
    "# well height, daily advance, night retreat, accumulated distance\n",
    "well_height = 125\n",
    "nightly_distance = 20\n",
    "advance_cm = [30, 21, 33, 77, 44, 45, 23, 45, 12, 34, 55]\n",
    "snail_position = 0\n",
    "\n",
    "# Assign 0 to the variable that represents the solution\n",
    "\n",
    "days=0\n",
    "\n",
    "# Write the code that solves the problem\n",
    "\n",
    "for i in advance_cm:\n",
    "    #During the day\n",
    "    days += 1\n",
    "    snail_position = snail_position + i \n",
    "    #At night\n",
    "    if snail_position <= well_height:\n",
    "        snail_position = snail_position - nightly_distance\n",
    "    else:\n",
    "        break\n",
    "            \n",
    " # Print the result with print('Days =', days)\n",
    "\n",
    "print('Days =' , str(days))\n"
   ]
  },
  {
   "cell_type": "markdown",
   "metadata": {},
   "source": [
    "**Expected output**: \n",
    "```\n",
    "Days = 6\n",
    "```"
   ]
  },
  {
   "cell_type": "code",
   "execution_count": 10,
   "metadata": {},
   "outputs": [
    {
     "name": "stdout",
     "output_type": "stream",
     "text": [
      "77 12\n"
     ]
    }
   ],
   "source": [
    "# What is its maximum displacement in a day? And its minimum?\n",
    "print(max(advance_cm), min(advance_cm))"
   ]
  },
  {
   "cell_type": "markdown",
   "metadata": {},
   "source": [
    "**Expected output**: \n",
    "```\n",
    "77 12\n",
    "```"
   ]
  },
  {
   "cell_type": "code",
   "execution_count": 13,
   "metadata": {},
   "outputs": [
    {
     "name": "stdout",
     "output_type": "stream",
     "text": [
      "38.09090909090909\n",
      "18.09090909090909\n"
     ]
    }
   ],
   "source": [
    "# What is its average progress?\n",
    "\n",
    "avg_displacement = sum(advance_cm)/len(advance_cm)\n",
    "print(avg_displacement)\n",
    "\n",
    "##Average progress (taking into account the nightly sliding):\n",
    "\n",
    "total_progress = [i-20 for i in advance_cm]\n",
    "avg_progress = sum(total_progress)/len(total_progress)\n",
    "print(avg_progress)\n"
   ]
  },
  {
   "cell_type": "markdown",
   "metadata": {},
   "source": [
    "**Expected output**: \n",
    "```\n",
    "38.09090909090909\n",
    "```"
   ]
  },
  {
   "cell_type": "code",
   "execution_count": 16,
   "metadata": {},
   "outputs": [
    {
     "name": "stdout",
     "output_type": "stream",
     "text": [
      "17.159437082600803\n",
      "17.159437082600803\n"
     ]
    }
   ],
   "source": [
    "# What is the standard deviation of your displacement during the day?\n",
    "std_displacement = (sum([(i - avg_displacement)**2 for i in advance_cm])/len(advance_cm))**0.5\n",
    "print(std_displacement)\n",
    "\n",
    "##Average progress (taking into account the nightly sliding):\n",
    "\n",
    "std_progress = (sum([(i - avg_progress)**2 for i in total_progress])/len(total_progress))**0.5\n",
    "#Same st-dev as the displacement as total_progress comes from the same distribution as advance_cm\n",
    "print(std_progress)"
   ]
  },
  {
   "cell_type": "markdown",
   "metadata": {},
   "source": [
    "**Expected output**: \n",
    "```\n",
    "17.159437082600803\n",
    "```"
   ]
  }
 ],
 "metadata": {
  "kernelspec": {
   "display_name": "Python 3",
   "language": "python",
   "name": "python3"
  },
  "language_info": {
   "codemirror_mode": {
    "name": "ipython",
    "version": 3
   },
   "file_extension": ".py",
   "mimetype": "text/x-python",
   "name": "python",
   "nbconvert_exporter": "python",
   "pygments_lexer": "ipython3",
   "version": "3.7.6"
  }
 },
 "nbformat": 4,
 "nbformat_minor": 4
}
