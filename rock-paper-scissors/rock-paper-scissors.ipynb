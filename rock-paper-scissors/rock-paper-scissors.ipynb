{
 "cells": [
  {
   "cell_type": "markdown",
   "metadata": {},
   "source": [
    "# Rock Paper Scissors\n",
    "\n",
    "Let's play the famous game against our computer.\n",
    "\n",
    "https://en.wikipedia.org/wiki/Rock%E2%80%93paper%E2%80%93scissors\n",
    "\n",
    "The use of functions is recommended\n",
    "\n",
    "## Goals\n",
    "1. Use of loop\n",
    "2. Data capture by console\n",
    "3. Use if-elif-else\n",
    "4. Use of try-except\n",
    "5. Definition of functions. Modular programming\n",
    "6. Logical operators.\n",
    "7. Print\n",
    "8. Import modules"
   ]
  },
  {
   "cell_type": "code",
   "execution_count": 1,
   "metadata": {},
   "outputs": [
    {
     "name": "stdin",
     "output_type": "stream",
     "text": [
      "What is your gesture?  rock\n"
     ]
    },
    {
     "name": "stdout",
     "output_type": "stream",
     "text": [
      "CPU chose rock\n",
      "Player chose rock\n",
      "***Tie!***\n"
     ]
    },
    {
     "name": "stdin",
     "output_type": "stream",
     "text": [
      "What is your gesture?  paper\n"
     ]
    },
    {
     "name": "stdout",
     "output_type": "stream",
     "text": [
      "CPU chose rock\n",
      "Player chose paper\n",
      "***Player wins***\n"
     ]
    },
    {
     "name": "stdin",
     "output_type": "stream",
     "text": [
      "What is your gesture?  scissors\n"
     ]
    },
    {
     "name": "stdout",
     "output_type": "stream",
     "text": [
      "CPU chose paper\n",
      "Player chose scissors\n",
      "***Player wins***\n"
     ]
    },
    {
     "name": "stdin",
     "output_type": "stream",
     "text": [
      "What is your gesture?  lele\n",
      "What is your gesture?  rock\n"
     ]
    },
    {
     "name": "stdout",
     "output_type": "stream",
     "text": [
      "CPU chose rock\n",
      "Player chose rock\n",
      "***Tie!***\n"
     ]
    },
    {
     "name": "stdin",
     "output_type": "stream",
     "text": [
      "What is your gesture?  paper\n"
     ]
    },
    {
     "name": "stdout",
     "output_type": "stream",
     "text": [
      "CPU chose paper\n",
      "Player chose paper\n",
      "***Tie!***\n",
      "YOU WON THIS MATCH!\n"
     ]
    }
   ],
   "source": [
    "# Import the choice function of the random module\n",
    "# https://stackoverflow.com/questions/306400/how-to-randomly-select-an-item-from-a-list\n",
    "\n",
    "from random import choice\n",
    "\n",
    "# Assign to a list the 3 possible options: 'stone', 'paper' or 'scissors'.\n",
    "\n",
    "gestures = ['rock', 'paper', 'scissors']\n",
    "\n",
    "# Assign a variable to the maximum number of games: 1, 3, 5, etc ...\n",
    "\n",
    "n_rounds = 5\n",
    "\n",
    "# Assign a variable to the number of games a player must win to win.\n",
    "# Preferably the value will be based on the number of maximum games\n",
    "\n",
    "rounds_to_win = 3\n",
    "\n",
    "# Define a function that randomly returns one of the 3 options.\n",
    "# This will correspond to the play of the machine. Totally random.\n",
    "\n",
    "def cpu_turn():\n",
    "    return choice(gestures)\n",
    "\n",
    "# Define a function that asks your choice: 'stone', 'paper' or 'scissors'\n",
    "# you should only allow one of the 3 options. This is defensive programming.\n",
    "# If it is not stone, paper or scissors keep asking until it is.\n",
    "\n",
    "def player_turn():\n",
    "    p_choice = input('What is your gesture? ')\n",
    "    #Allow only values within the list\n",
    "    while p_choice not in gestures:\n",
    "            p_choice = input('What is your gesture? ')\n",
    "    return p_choice\n",
    "\n",
    "# Define a function that resolves a combat.\n",
    "# Returns 0 if there is a tie, 1 if the machine wins, 2 if the human player wins\n",
    "\n",
    "def win(x, y):\n",
    "    if x==y:\n",
    "        return 'tie'\n",
    "    elif x=='rock' and y=='scissors':\n",
    "        return x\n",
    "    elif x=='rock' and y=='paper':\n",
    "        return y\n",
    "    elif x=='paper' and y=='scissors':\n",
    "        return y\n",
    "    elif x=='paper' and y=='rock':\n",
    "        return x\n",
    "    elif x=='scissors' and y=='rock':\n",
    "        return y\n",
    "    elif x=='scissors' and y=='paper':\n",
    "        return x\n",
    "    \n",
    "# Define a function that shows the choice of each player and the state of the game\n",
    "# This function should be used every time accumulated points are updated\n",
    "\n",
    "def print_winner(c, p):\n",
    "    \n",
    "    #Edit the global variables instead of using local ones\n",
    "    global cpu_score, player_score\n",
    "    \n",
    "    print('CPU chose', str(c))\n",
    "    print('Player chose', str(p))\n",
    "    w = win(c, p)\n",
    "    if w == c:\n",
    "        print('***CPU wins***')\n",
    "        cpu_score += 1\n",
    "    elif w == p:\n",
    "        print('***Player wins***')\n",
    "        player_score += 1\n",
    "    else:\n",
    "        print('***Tie!***')\n",
    "        \n",
    "# Create two variables that accumulate the wins of each participant\n",
    "\n",
    "cpu_score = 0\n",
    "player_score = 0\n",
    "\n",
    "# Create a loop that iterates while no player reaches the minimum of wins\n",
    "# necessary to win. Inside the loop solves the play of the\n",
    "# machine and ask the player's. Compare them and update the value of the variables\n",
    "# that accumulate the wins of each participant.\n",
    "\n",
    "#If a player reach 3 wins, the game stops, otherwise goes until 5 rounds and wins who won more matches\n",
    "round = 0\n",
    "while ((cpu_score < rounds_to_win) | (player_score < rounds_to_win)) and (round < n_rounds):\n",
    "    player = player_turn()\n",
    "    cpu = cpu_turn()\n",
    "    print_winner(cpu, player)\n",
    "    round += 1 \n",
    "\n",
    "# Print by console the winner of the game based on who has more accumulated wins\n",
    "\n",
    "if cpu_score > player_score:\n",
    "    print('CPU WON THIS MATCH')\n",
    "elif player_score > cpu_score:\n",
    "    print('YOU WON THIS MATCH!')\n",
    "else:\n",
    "    print('THERE WAS A TIE!')"
   ]
  },
  {
   "cell_type": "markdown",
   "metadata": {},
   "source": [
    "**Expected output**: Depends on the inputs, you know how to play and what to expect. "
   ]
  },
  {
   "cell_type": "markdown",
   "metadata": {},
   "source": [
    "# Bonus: Stone, paper, scissors, lizard, spock\n",
    "\n",
    "Now the improvement begins.\n",
    "\n",
    "![](images/rpsls.jpg)\n",
    "\n",
    "\n",
    "http://www.samkass.com/theories/RPSSL.html\n",
    "\n",
    "You are asked to impliment some improvements with respect to the simple previous game. In addition, the number of games (which must be ODD) will be requested per console until a valid number is entered.\n",
    "\n",
    "Improvements:\n",
    "* 5 options: stone, paper, scissors, lizard, spock\n",
    "* The number of games is requested per console\n",
    "Tip: Reuse code that you already use. If you have programmed intelligently, the bonus are simple modifications to the original game."
   ]
  },
  {
   "cell_type": "code",
   "execution_count": 13,
   "metadata": {},
   "outputs": [
    {
     "name": "stdin",
     "output_type": "stream",
     "text": [
      "How many games you want to play?(Odd number):  3\n",
      "What is your gesture?  rock\n"
     ]
    },
    {
     "name": "stdout",
     "output_type": "stream",
     "text": [
      "CPU chose rock\n",
      "Player chose rock\n",
      "***Tie!***\n"
     ]
    },
    {
     "name": "stdin",
     "output_type": "stream",
     "text": [
      "What is your gesture?  spock\n"
     ]
    },
    {
     "name": "stdout",
     "output_type": "stream",
     "text": [
      "CPU chose paper\n",
      "Player chose spock\n",
      "***CPU wins***\n"
     ]
    },
    {
     "name": "stdin",
     "output_type": "stream",
     "text": [
      "What is your gesture?  lizar\n",
      "What is your gesture?  lizard\n"
     ]
    },
    {
     "name": "stdout",
     "output_type": "stream",
     "text": [
      "CPU chose lizard\n",
      "Player chose lizard\n",
      "***Tie!***\n",
      "CPU WON THIS MATCH\n"
     ]
    }
   ],
   "source": [
    "# Import the choice function of the random module\n",
    "\n",
    "from random import choice\n",
    "\n",
    "# Define a function that asks for an odd number on the keyboard, until it is not valid\n",
    "# will keep asking\n",
    "\n",
    "def game_n():\n",
    "    n = input('How many games you want to play?(Odd number): ')\n",
    "    #Allow only values within the list\n",
    "    while int(n) % 2 == 0:\n",
    "        n = input('How many games you want to play?(Odd number): ')\n",
    "    return int(n)\n",
    "\n",
    "# Assign a list of 5 possible options.\n",
    "\n",
    "gestures = ['rock', 'paper', 'scissors', 'lizard', 'spock']\n",
    "\n",
    "# Assign a variable to the maximum number of games: 1, 3, 5, etc ...\n",
    "# This time the previously defined function is used\n",
    "\n",
    "n_rounds = game_n()\n",
    "\n",
    "# Assign a variable to the number of games a player must win to win.\n",
    "# Preferably the value will be based on the number of maximum games\n",
    "\n",
    "rounds_to_win = int(n_rounds/2 + 1)\n",
    "\n",
    "# Define a function that randomly returns one of the 5 options.\n",
    "# This will correspond to the play of the machine. Totally random.\n",
    "\n",
    "def cpu_turn():\n",
    "    return choice(gestures)\n",
    "\n",
    "# Define a function that asks your choice between 5\n",
    "# you should only allow one of the 5 options. This is defensive programming.\n",
    "# If it is not valid, keep asking until it is valid.\n",
    "\n",
    "def player_turn():\n",
    "    p_choice = input('What is your gesture? ')\n",
    "    #Allow only values within the list\n",
    "    while p_choice not in gestures:\n",
    "            p_choice = input('What is your gesture? ')\n",
    "    return p_choice\n",
    "\n",
    "# Define a function that resolves a combat.\n",
    "# Returns 0 if there is a tie, 1 if the machine wins, 2 if the human player wins\n",
    "# Now there are more options\n",
    "\n",
    "#New rules of the game:\n",
    "def win(x, y):\n",
    "    if x==y:\n",
    "        return 'tie'\n",
    "    elif x=='rock' and (y=='scissors' or y=='lizard'):\n",
    "        return x\n",
    "    elif x=='rock' and (y=='paper' or y=='spock'):\n",
    "        return y\n",
    "    elif x=='paper' and (y=='rock' or y=='spock'):\n",
    "        return x\n",
    "    elif x=='paper' and (y=='lizard' or y=='scissors'):\n",
    "        return y\n",
    "    elif x=='scissors' and (y=='paper' or y=='lizard'):\n",
    "        return x\n",
    "    elif x=='scissors' and (y=='rock' or y=='spock'):\n",
    "        return y\n",
    "    elif x=='lizard' and (y=='spock' or y=='paper'):\n",
    "        return x\n",
    "    elif x=='lizard' and (y=='rock' or y=='scissors'):\n",
    "        return y\n",
    "    elif x=='spock' and (y=='rock' or y=='scissors'):\n",
    "        return x\n",
    "    elif x=='spock' and (y=='paper' or y=='lizard'):\n",
    "        return y\n",
    "\n",
    "# Define a function that shows the choice of each player and the state of the game\n",
    "# This function should be used every time accumulated points are updated\n",
    "\n",
    "def print_winner(c, p):\n",
    "    \n",
    "    #Edit the global variables instead of using local ones\n",
    "    global cpu_score, player_score\n",
    "    \n",
    "    print('CPU chose', str(c))\n",
    "    print('Player chose', str(p))\n",
    "    w = win(c, p)\n",
    "    if w == c:\n",
    "        print('***CPU wins***')\n",
    "        cpu_score += 1\n",
    "    elif w == p:\n",
    "        print('***Player wins***')\n",
    "        player_score += 1\n",
    "    else:\n",
    "        print('***Tie!***')\n",
    "        \n",
    "    \n",
    "# Create two variables that accumulate the wins of each participant\n",
    "\n",
    "cpu_score = 0\n",
    "player_score = 0\n",
    "\n",
    "# Create a loop that iterates while no player reaches the minimum of wins\n",
    "# necessary to win. Inside the loop solves the play of the\n",
    "# machine and ask the player's. Compare them and update the value of the variables\n",
    "# that accumulate the wins of each participant.\n",
    "    \n",
    "round = 0\n",
    "while ((cpu_score < rounds_to_win) | (player_score < rounds_to_win)) and (round < n_rounds):\n",
    "    player = player_turn()\n",
    "    cpu = cpu_turn()\n",
    "    print_winner(cpu, player)\n",
    "    round += 1 \n",
    "\n",
    "    \n",
    "# Print by console the winner of the game based on who has more accumulated wins\n",
    "\n",
    "    \n",
    "if cpu_score > player_score:\n",
    "    print('CPU WON THIS MATCH')\n",
    "elif player_score > cpu_score:\n",
    "    print('YOU WON THIS MATCH!')\n",
    "else:\n",
    "    print('THERE WAS A TIE!')\n"
   ]
  },
  {
   "cell_type": "markdown",
   "metadata": {},
   "source": [
    "**Expected output**: Depends on the inputs, you know how to play and what to expect. "
   ]
  }
 ],
 "metadata": {
  "kernelspec": {
   "display_name": "Python 3",
   "language": "python",
   "name": "python3"
  },
  "language_info": {
   "codemirror_mode": {
    "name": "ipython",
    "version": 3
   },
   "file_extension": ".py",
   "mimetype": "text/x-python",
   "name": "python",
   "nbconvert_exporter": "python",
   "pygments_lexer": "ipython3",
   "version": "3.7.6"
  }
 },
 "nbformat": 4,
 "nbformat_minor": 4
}
